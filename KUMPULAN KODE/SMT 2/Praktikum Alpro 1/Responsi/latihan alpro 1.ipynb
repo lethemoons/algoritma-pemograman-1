{
 "cells": [
  {
   "cell_type": "markdown",
   "metadata": {},
   "source": [
    "## SOAL UAS TAHUN LALU"
   ]
  },
  {
   "cell_type": "markdown",
   "metadata": {},
   "source": [
    "### Nomor 1"
   ]
  },
  {
   "cell_type": "code",
   "execution_count": 23,
   "metadata": {},
   "outputs": [
    {
     "name": "stdout",
     "output_type": "stream",
     "text": [
      "List barang toko barokah: \n",
      "['sabun', 5000, 2]\n",
      "['sikat gigi', 3000, 2]\n",
      "['pasta gigi', 2500, 2]\n",
      "['deterjen', 2000, 2]\n",
      "['pewangi', 1000, 2]\n"
     ]
    }
   ],
   "source": [
    "gudang = [['sabun', 5000, 2], ['sikat gigi', 3000, 2], ['pasta gigi', 2500, 2], ['deterjen', 2000, 2], ['pewangi', 1000, 2]]\n",
    "\n",
    "print('List barang toko barokah: ')\n",
    "for barang in gudang:\n",
    "    print(barang)"
   ]
  },
  {
   "cell_type": "code",
   "execution_count": 24,
   "metadata": {},
   "outputs": [
    {
     "name": "stdout",
     "output_type": "stream",
     "text": [
      "Barang yang ada di gudang saat ini adalah\n",
      "['sabun', 5000, 2]\n",
      "['sikat gigi', 3000, 2]\n",
      "['pasta gigi', 2500, 2]\n",
      "['deterjen', 2000, 2]\n",
      "['pewangi', 1000, 2]\n",
      "--------------------------------------------------\n",
      "Barang ke 1\n",
      "masukkan nama barang: pasta gigi\n",
      "masukkan total pasta gigi: 13\n",
      "Penambahan berhasil, total pasta gigi saat ini adalah: 15\n",
      "Barang ke 2\n",
      "masukkan nama barang: deterjen\n",
      "masukkan total deterjen: 8\n",
      "Penambahan berhasil, total deterjen saat ini adalah: 10\n",
      "Barang yang ada di gudang saat ini adalah\n",
      "--------------------------------------------------\n",
      "['sabun', 5000, 2]\n",
      "['sikat gigi', 3000, 2]\n",
      "['pasta gigi', 2500, 15]\n",
      "['deterjen', 2000, 10]\n",
      "['pewangi', 1000, 2]\n"
     ]
    }
   ],
   "source": [
    "def penambah_barang(gudang):\n",
    "    print('Barang yang ada di gudang saat ini adalah')\n",
    "    for barang in gudang:\n",
    "        print(barang)\n",
    "    print('-'*50)\n",
    "    jumlah = int(input('Masukkan total jenis barang: '))\n",
    "    if jumlah < 2:\n",
    "        print('Minimal menambahkan 2 jenis barang')\n",
    "    else:\n",
    "        for i in range(1, jumlah+1):\n",
    "            print(f'Barang ke {i}')\n",
    "            nama = input('masukkan nama barang: ')\n",
    "            print(f'masukkan nama barang: {nama}')\n",
    "            banyak = int(input(f'Masukkan total {nama}: '))\n",
    "            print(f'masukkan total {nama}: {banyak}')\n",
    "            for barang in gudang:\n",
    "                if nama in barang:\n",
    "                    item = barang\n",
    "                    barang[2] = barang[2] + banyak\n",
    "            print(f'Penambahan berhasil, total {nama} saat ini adalah: {item[2]}')\n",
    "        print('Barang yang ada di gudang saat ini adalah')\n",
    "        print('-'*50)\n",
    "        for barang in gudang:\n",
    "            print(barang)\n",
    "\n",
    "penambah_barang(gudang)"
   ]
  },
  {
   "cell_type": "markdown",
   "metadata": {},
   "source": [
    "### Nomor 2"
   ]
  },
  {
   "cell_type": "code",
   "execution_count": 5,
   "metadata": {},
   "outputs": [],
   "source": [
    "# 1. Bertemu teller\n",
    "queueSatu = []\n",
    "# 2. Bertemu CS\n",
    "queueDua = []\n",
    "# 3. antre ATM\n",
    "queueTiga = []\n",
    "\n",
    "def sistem_antrian():\n",
    "    pilihan = int(input('''Selamat datang di Antrean BankUlar\n",
    "          Adakah yang bisa kami bantu?\n",
    "          Menu: \n",
    "              1. bertemu Teller\n",
    "              2. bertemu CS\n",
    "              3. antre ATM\n",
    "          Masukkan menu pilihan anda: '''))\n",
    "    print(f'Masukkan menu pilihan anda: {pilihan}')\n",
    "    nama = input('Masukkan nama anda: ')\n",
    "    print(f'Masukkan nama anda: {nama}')\n",
    "    if pilihan == 1:\n",
    "        queueSatu.append(nama)\n",
    "        print(f'Terima kasih, {nama} telah masuk ke antrean {queueSatu} dengan nomor antrean {len(queueSatu)}')\n",
    "    elif pilihan == 2:\n",
    "        queueDua.append(nama)\n",
    "        print(f'Terima kasih, {nama} telah masuk ke antrean {queueDua} dengan nomor antrean {len(queueDua)}')\n",
    "    elif pilihan == 3:\n",
    "        queueTiga.append(nama)\n",
    "        print(f'Terima kasih, {nama} telah masuk ke antrean {queueTiga} dengan nomor antrean {len(queueTiga)}')"
   ]
  },
  {
   "cell_type": "code",
   "execution_count": 6,
   "metadata": {},
   "outputs": [
    {
     "name": "stdout",
     "output_type": "stream",
     "text": [
      "Masukkan menu pilihan anda: 1\n",
      "Masukkan nama anda: Ruzza\n",
      "Terima kasih, Ruzza telah masuk ke antrean ['Ruzza'] dengan nomor antrean 1\n"
     ]
    }
   ],
   "source": [
    "sistem_antrian()"
   ]
  },
  {
   "cell_type": "code",
   "execution_count": 7,
   "metadata": {},
   "outputs": [
    {
     "name": "stdout",
     "output_type": "stream",
     "text": [
      "Masukkan menu pilihan anda: 1\n",
      "Masukkan nama anda: Bambang\n",
      "Terima kasih, Bambang telah masuk ke antrean ['Ruzza', 'Bambang'] dengan nomor antrean 2\n"
     ]
    }
   ],
   "source": [
    "sistem_antrian()"
   ]
  },
  {
   "cell_type": "code",
   "execution_count": 29,
   "metadata": {},
   "outputs": [
    {
     "name": "stdout",
     "output_type": "stream",
     "text": [
      "Masukkan menu pilihan anda: 1\n",
      "Masukkan nama anda: Jasin\n",
      "Terima kasih, Jasin telah masuk ke antrean ['Ruzza', 'Bambang', 'Jasin'] dengan nomor antrean 3\n"
     ]
    }
   ],
   "source": [
    "sistem_antrian()"
   ]
  },
  {
   "cell_type": "code",
   "execution_count": 30,
   "metadata": {},
   "outputs": [
    {
     "name": "stdout",
     "output_type": "stream",
     "text": [
      "Masukkan menu pilihan anda: 2\n",
      "Masukkan nama anda: Steve\n",
      "Terima kasih, Steve telah masuk ke antrean ['Steve'] dengan nomor antrean 1\n"
     ]
    }
   ],
   "source": [
    "sistem_antrian()"
   ]
  },
  {
   "cell_type": "markdown",
   "metadata": {},
   "source": [
    "### Nomor 3"
   ]
  },
  {
   "cell_type": "code",
   "execution_count": 55,
   "metadata": {},
   "outputs": [
    {
     "name": "stdout",
     "output_type": "stream",
     "text": [
      "[1, 3, 3, 5, 7, 9, 9, 0, 2, 4, 6]\n"
     ]
    }
   ],
   "source": [
    "def bubble_sort(list_angka):\n",
    "    ganjil = [x for x in list_angka if x % 2 != 0]\n",
    "    genap = [x for x in list_angka if x % 2 == 0]\n",
    "    n_ganjil = len(ganjil)\n",
    "    n_genap = len(genap)\n",
    "    for i in range(n_ganjil):\n",
    "        cursor = 0\n",
    "        for i in range(n_ganjil-1):\n",
    "            if ganjil[cursor] > ganjil[cursor+1]:\n",
    "                ganjil[cursor], ganjil[cursor+1] = ganjil[cursor+1], ganjil[cursor]\n",
    "            cursor+=1\n",
    "    for i in range(n_genap):\n",
    "        cursor = 0\n",
    "        for i in range(n_genap-1):\n",
    "            if genap[cursor] > genap[cursor+1]:\n",
    "                genap[cursor], genap[cursor+1] = genap[cursor+1], genap[cursor]\n",
    "            cursor+=1\n",
    "    list_angka = ganjil + genap\n",
    "    return list_angka\n",
    "\n",
    "angka = [5, 4, 2, 3, 1, 9, 0, 7, 6, 3, 9]\n",
    "print(bubble_sort(angka))"
   ]
  },
  {
   "cell_type": "code",
   "execution_count": 10,
   "metadata": {},
   "outputs": [
    {
     "name": "stdout",
     "output_type": "stream",
     "text": [
      "Shortest distance from node Surabaya to node Malang: 0\n",
      "Path: Surabaya -> Sidoarjo -> Pasuruan -> Malang\n"
     ]
    }
   ],
   "source": [
    "def create_graph():\n",
    "    graph = {\n",
    "        'Gresik': {'Surabaya': 9, 'Mojokerto': 11},\n",
    "        'Surabaya': {'Gresik':9, 'Sidoarjo': 3},\n",
    "        'Mojokerto': {'Gresik': 11, 'Sidoarjo': 13},\n",
    "        'Sidoarjo': {'Surabaya': 3, 'Mojokerto': 13,'Pasuruan': 4},\n",
    "        'Pasuruan': {'Sidoarjo': 4, 'Jember': 6, 'Malang': 7},\n",
    "        'Jember': {'Pasuruan': 6, 'Malang': 15},\n",
    "        'Malang': {'Pasuruan': 7, 'Jember': 15}\n",
    "    }\n",
    "    return graph\n",
    "\n",
    "def dijkstra(graph, start, end):\n",
    "    # Initialize distances with infinity and set the distance to the start node to 0\n",
    "    distances = {node: float('infinity') for node in graph}\n",
    "    distances[start] = 0\n",
    "    \n",
    "    # Dictionary to keep track of the best path to each node\n",
    "    previous_nodes = {node: None for node in graph}\n",
    "    \n",
    "    # List to keep track of nodes to visit (tuple of (distance, node))\n",
    "    nodes_to_visit = [(0, start)]\n",
    "    \n",
    "    while nodes_to_visit:\n",
    "        # Sort the list and pop the node with the smallest distance\n",
    "        nodes_to_visit.sort()\n",
    "        current_distance, current_node = nodes_to_visit.pop(0)\n",
    "        \n",
    "        # If we have reached the end node, reconstruct the path\n",
    "        if current_node == end:\n",
    "            path = []\n",
    "            while previous_nodes[current_node] is not None:\n",
    "                path.insert(0, current_node)\n",
    "                current_node = previous_nodes[current_node]\n",
    "            path.insert(0, start)\n",
    "            return distances[end], path\n",
    "        \n",
    "        # Check neighbors\n",
    "        for neighbor, weight in graph[current_node].items():\n",
    "            distance = current_distance + weight\n",
    "            \n",
    "            # Only consider this new path if it's better\n",
    "            if distance < distances[neighbor]:\n",
    "                distances[neighbor] = distance\n",
    "                previous_nodes[neighbor] = current_node\n",
    "                nodes_to_visit.append((distance, neighbor))\n",
    "    \n",
    "    return float('infinity'), []  # If the end node is unreachable, return infinity and an empty path\n",
    "\n",
    "# Example usage\n",
    "graph = create_graph()\n",
    "start_node = 'Surabaya'\n",
    "end_node = 'Malang'\n",
    "shortest_distance, path = dijkstra(graph, start_node, end_node)\n",
    "\n",
    "print(f\"Shortest distance from node {start_node} to node {end_node}: {shortest_distance}\")\n",
    "print(f\"Path: {' -> '.join(path)}\")"
   ]
  },
  {
   "cell_type": "markdown",
   "metadata": {},
   "source": [
    "## Soal Responsi Bu Mar"
   ]
  },
  {
   "cell_type": "markdown",
   "metadata": {},
   "source": [
    "### NOMOR 1"
   ]
  },
  {
   "cell_type": "code",
   "execution_count": 12,
   "metadata": {},
   "outputs": [
    {
     "data": {
      "text/plain": [
       "[5, 3, 1, 2, 4, 6, 7]"
      ]
     },
     "execution_count": 12,
     "metadata": {},
     "output_type": "execute_result"
    }
   ],
   "source": [
    "def antrian_prioritas(no_urut):\n",
    "    prioritas = input('masukkan angka prioritas (1, 3, 5):').split(', ')\n",
    "    prioritas = [int(x) for x in prioritas]\n",
    "    antrean = no_urut\n",
    "    for index, angka in enumerate(no_urut):\n",
    "        if angka in prioritas:\n",
    "            antrean.pop(index)\n",
    "    antrean = prioritas + antrean\n",
    "    return antrean\n",
    "\n",
    "no_urut = [1, 2, 3, 4, 5, 6, 7]\n",
    "antrian_prioritas(no_urut)"
   ]
  },
  {
   "cell_type": "markdown",
   "metadata": {},
   "source": [
    "### NOMOR 2"
   ]
  },
  {
   "cell_type": "code",
   "execution_count": 28,
   "metadata": {},
   "outputs": [
    {
     "name": "stdout",
     "output_type": "stream",
     "text": [
      "Hasil urutan = [2, 3, 5, 1, 4]\n"
     ]
    }
   ],
   "source": [
    "def is_prime(n):\n",
    "    cek = True\n",
    "    if n < 2:\n",
    "        cek = False\n",
    "    for i in range(2,n):\n",
    "        if n % i == 0:\n",
    "            cek = False\n",
    "    return cek\n",
    "\n",
    "def process_queue_recursive(queue, result=[]):\n",
    "    if not queue:\n",
    "        return result\n",
    "    \n",
    "    prime_found = False\n",
    "    for i, num in enumerate(queue):\n",
    "        if is_prime(num):\n",
    "            result.append(num)\n",
    "            queue.pop(i)\n",
    "            prime_found = True\n",
    "\n",
    "            break\n",
    "\n",
    "    if not prime_found and queue:\n",
    "        num = queue.pop(0)\n",
    "        result.append(num)\n",
    "\n",
    "    return process_queue_recursive(queue, result)\n",
    "\n",
    "Bil_input = [1, 2, 3, 4, 5]\n",
    "hasil_urutan = process_queue_recursive(Bil_input)\n",
    "print(\"Hasil urutan =\", hasil_urutan)"
   ]
  },
  {
   "cell_type": "markdown",
   "metadata": {},
   "source": [
    "### NOMOR 3"
   ]
  },
  {
   "cell_type": "code",
   "execution_count": 13,
   "metadata": {},
   "outputs": [
    {
     "name": "stdout",
     "output_type": "stream",
     "text": [
      "Hasil dari 7 - 5 / 9 = 6.444444444444445\n"
     ]
    },
    {
     "data": {
      "text/plain": [
       "6.444444444444445"
      ]
     },
     "execution_count": 13,
     "metadata": {},
     "output_type": "execute_result"
    }
   ],
   "source": [
    "def operate(bil1, bil2, opr):\n",
    "    if opr == '+':\n",
    "        return bil1 + bil2\n",
    "    elif opr == '-':\n",
    "        return bil1 - bil2\n",
    "    elif opr == '*':\n",
    "        return bil1 * bil2\n",
    "    elif opr == '/':\n",
    "        return bil1 / bil2\n",
    "def kalkulator():\n",
    "    l_angka = input('Masukkan angka (1, 3, 4):').split(', ')\n",
    "    angka = [int(x) for x in l_angka]\n",
    "    opr1  = input('masukkan operasi 1=: ')\n",
    "    opr2  = input('masukkan operasi 2=: ')\n",
    "\n",
    "    operator = {'+': 1, '-': 1,'*': 2, '/':2}\n",
    "    \n",
    "    if operator[opr2] > operator[opr1]:\n",
    "        bil1 = angka.pop(1)\n",
    "        bil2 = angka.pop(1)\n",
    "        angka.append(operate(bil1, bil2, opr2))\n",
    "        hasil = operate(angka[0], angka[1], opr1)\n",
    "    elif operator[opr2] < operator[opr1]:\n",
    "        bil1 = angka.pop(0)\n",
    "        bil2 = angka.pop(0)\n",
    "        angka.append(operate(bil1, bil2, opr1))\n",
    "        hasil = operate(angka[0], angka[1], opr2)\n",
    "    print(f'Hasil dari {l_angka[0]} {opr1} {l_angka[1]} {opr2} {l_angka[2]} = {hasil}')\n",
    "    return hasil\n",
    "\n",
    "kalkulator()"
   ]
  },
  {
   "cell_type": "code",
   "execution_count": 36,
   "metadata": {},
   "outputs": [
    {
     "data": {
      "text/html": [
       "<div>\n",
       "<style scoped>\n",
       "    .dataframe tbody tr th:only-of-type {\n",
       "        vertical-align: middle;\n",
       "    }\n",
       "\n",
       "    .dataframe tbody tr th {\n",
       "        vertical-align: top;\n",
       "    }\n",
       "\n",
       "    .dataframe thead th {\n",
       "        text-align: right;\n",
       "    }\n",
       "</style>\n",
       "<table border=\"1\" class=\"dataframe\">\n",
       "  <thead>\n",
       "    <tr style=\"text-align: right;\">\n",
       "      <th></th>\n",
       "      <th>Bangun_Tidak Terlambat</th>\n",
       "      <th>Perkuliahan_Tidak</th>\n",
       "      <th>Hujan_Ya</th>\n",
       "      <th>Makan_Sudah</th>\n",
       "      <th>Mandi_Ya</th>\n",
       "    </tr>\n",
       "  </thead>\n",
       "  <tbody>\n",
       "    <tr>\n",
       "      <th>0</th>\n",
       "      <td>0</td>\n",
       "      <td>0</td>\n",
       "      <td>0</td>\n",
       "      <td>1</td>\n",
       "      <td>1</td>\n",
       "    </tr>\n",
       "    <tr>\n",
       "      <th>1</th>\n",
       "      <td>1</td>\n",
       "      <td>1</td>\n",
       "      <td>1</td>\n",
       "      <td>0</td>\n",
       "      <td>0</td>\n",
       "    </tr>\n",
       "    <tr>\n",
       "      <th>2</th>\n",
       "      <td>1</td>\n",
       "      <td>0</td>\n",
       "      <td>1</td>\n",
       "      <td>1</td>\n",
       "      <td>1</td>\n",
       "    </tr>\n",
       "    <tr>\n",
       "      <th>3</th>\n",
       "      <td>0</td>\n",
       "      <td>0</td>\n",
       "      <td>0</td>\n",
       "      <td>1</td>\n",
       "      <td>0</td>\n",
       "    </tr>\n",
       "    <tr>\n",
       "      <th>4</th>\n",
       "      <td>1</td>\n",
       "      <td>1</td>\n",
       "      <td>1</td>\n",
       "      <td>0</td>\n",
       "      <td>0</td>\n",
       "    </tr>\n",
       "    <tr>\n",
       "      <th>5</th>\n",
       "      <td>0</td>\n",
       "      <td>0</td>\n",
       "      <td>1</td>\n",
       "      <td>1</td>\n",
       "      <td>1</td>\n",
       "    </tr>\n",
       "  </tbody>\n",
       "</table>\n",
       "</div>"
      ],
      "text/plain": [
       "   Bangun_Tidak Terlambat  Perkuliahan_Tidak  Hujan_Ya  Makan_Sudah  Mandi_Ya\n",
       "0                       0                  0         0            1         1\n",
       "1                       1                  1         1            0         0\n",
       "2                       1                  0         1            1         1\n",
       "3                       0                  0         0            1         0\n",
       "4                       1                  1         1            0         0\n",
       "5                       0                  0         1            1         1"
      ]
     },
     "execution_count": 36,
     "metadata": {},
     "output_type": "execute_result"
    }
   ],
   "source": [
    "import pandas as pd\n",
    "df = pd.DataFrame({\n",
    "    'Bangun': ['Terlambat', 'Tidak Terlambat', 'Tidak Terlambat', 'Terlambat', 'Tidak Terlambat', 'Terlambat'],\n",
    "    'Perkuliahan': ['Datang', 'Tidak', 'Datang', 'Datang', 'Tidak', 'Datang'],\n",
    "    'Hujan': ['Tidak', 'Ya', 'Ya', 'Tidak', 'Ya', 'Ya'],\n",
    "    'Makan': ['Sudah', 'Belum', 'Sudah', 'Sudah', 'Belum', 'Sudah'],\n",
    "    'Mandi': ['Ya', 'Tidak', 'Ya', 'Tidak', 'Tidak', 'Ya']\n",
    "})\n",
    "df = pd.get_dummies(df, drop_first=True, dtype=int)\n",
    "\n",
    "df"
   ]
  },
  {
   "cell_type": "markdown",
   "metadata": {},
   "source": [
    "### NOMOR 4"
   ]
  },
  {
   "cell_type": "code",
   "execution_count": 1,
   "metadata": {},
   "outputs": [
    {
     "data": {
      "image/png": "[encoded data removed]",
      "text/plain": [
       "<Figure size 1000x400 with 1 Axes>"
      ]
     },
     "metadata": {},
     "output_type": "display_data"
    }
   ],
   "source": [
    "import pandas as pd\n",
    "from sklearn import tree\n",
    "from sklearn.tree import DecisionTreeClassifier\n",
    "import matplotlib.pyplot as plt\n",
    "\n",
    "df = pd.DataFrame({\n",
    "    'Bangun': ['Terlambat', 'Tidak Terlambat', 'Tidak Terlambat', 'Terlambat', 'Tidak Terlambat', 'Terlambat'],\n",
    "    'Perkuliahan': ['Datang', 'Tidak', 'Datang', 'Datang', 'Tidak', 'Datang'],\n",
    "    'Hujan': ['Tidak', 'Ya', 'Ya', 'Tidak', 'Ya', 'Ya'],\n",
    "    'Makan': ['Sudah', 'Belum', 'Sudah', 'Sudah', 'Belum', 'Sudah'],\n",
    "    'Mandi': ['Ya', 'Tidak', 'Ya', 'Tidak', 'Tidak', 'Ya']})\n",
    "\n",
    "\n",
    "y = df['Perkuliahan']\n",
    "df = pd.get_dummies(df, drop_first=True,dtype=int)\n",
    "\n",
    "X = df.drop('Perkuliahan_Tidak', axis=1)\n",
    "\n",
    "clf = DecisionTreeClassifier(random_state=100)\n",
    "clf.fit(X, y)\n",
    "\n",
    "plt.figure(figsize=(10, 4))\n",
    "tree.plot_tree(clf, feature_names=list(X.columns), class_names=['Datang', 'Tidak'], filled=True)\n",
    "plt.show()\n"
   ]
  },
  {
   "cell_type": "code",
   "execution_count": 2,
   "metadata": {},
   "outputs": [
    {
     "name": "stdout",
     "output_type": "stream",
     "text": [
      "['Tidak']\n"
     ]
    }
   ],
   "source": [
    "data_test = pd.DataFrame({'Bangun_Tidak Terlambat': [1],\n",
    "                          'Hujan_Ya': [1],\n",
    "                          'Makan_Sudah': [0],\n",
    "                          'Mandi_Ya': [0]})\n",
    "\n",
    "hasil = clf.predict(data_test)\n",
    "print(hasil)"
   ]
  },
  {
   "cell_type": "code",
   "execution_count": 38,
   "metadata": {},
   "outputs": [
    {
     "name": "stdout",
     "output_type": "stream",
     "text": [
      "1.0\n",
      "-5.8922064738789115e-16\n",
      "5.551115123125783e-16\n",
      "-1.0\n",
      "2.7755575615628914e-17\n"
     ]
    }
   ],
   "source": [
    "from sklearn.linear_model import LinearRegression\n",
    "import pandas as pd\n",
    "import matplotlib.pyplot as plt\n",
    "\n",
    "df = pd.DataFrame({\n",
    "    'Bangun': ['Terlambat', 'Tidak Terlambat', 'Tidak Terlambat', 'Terlambat', 'Tidak Terlambat', 'Terlambat'],\n",
    "    'Perkuliahan': ['Datang', 'Tidak', 'Datang', 'Datang', 'Tidak', 'Datang'],\n",
    "    'Hujan': ['Tidak', 'Ya', 'Ya', 'Tidak', 'Ya', 'Ya'],\n",
    "    'Makan': ['Sudah', 'Belum', 'Sudah', 'Sudah', 'Belum', 'Sudah'],\n",
    "    'Mandi': ['Ya', 'Tidak', 'Ya', 'Tidak', 'Tidak', 'Ya']})\n",
    "\n",
    "df = pd.get_dummies(df, drop_first=True, dtype=int)\n",
    "\n",
    "X = df.drop('Perkuliahan_Tidak', axis=1)\n",
    "y = df['Perkuliahan_Tidak']\n",
    "lr = LinearRegression()\n",
    "model_lr = lr.fit(X, y)\n",
    "\n",
    "print(model_lr.intercept_)\n",
    "print(model_lr.coef_[0])\n",
    "print(model_lr.coef_[1])\n",
    "print(model_lr.coef_[2])\n",
    "print(model_lr.coef_[3])\n"
   ]
  },
  {
   "cell_type": "code",
   "execution_count": 40,
   "metadata": {},
   "outputs": [
    {
     "data": {
      "text/html": [
       "<div>\n",
       "<style scoped>\n",
       "    .dataframe tbody tr th:only-of-type {\n",
       "        vertical-align: middle;\n",
       "    }\n",
       "\n",
       "    .dataframe tbody tr th {\n",
       "        vertical-align: top;\n",
       "    }\n",
       "\n",
       "    .dataframe thead th {\n",
       "        text-align: right;\n",
       "    }\n",
       "</style>\n",
       "<table border=\"1\" class=\"dataframe\">\n",
       "  <thead>\n",
       "    <tr style=\"text-align: right;\">\n",
       "      <th></th>\n",
       "      <th>Bangun_Tidak Terlambat</th>\n",
       "      <th>Perkuliahan_Tidak</th>\n",
       "      <th>Hujan_Ya</th>\n",
       "      <th>Makan_Sudah</th>\n",
       "      <th>Mandi_Ya</th>\n",
       "    </tr>\n",
       "  </thead>\n",
       "  <tbody>\n",
       "    <tr>\n",
       "      <th>0</th>\n",
       "      <td>0</td>\n",
       "      <td>0</td>\n",
       "      <td>0</td>\n",
       "      <td>1</td>\n",
       "      <td>1</td>\n",
       "    </tr>\n",
       "    <tr>\n",
       "      <th>1</th>\n",
       "      <td>1</td>\n",
       "      <td>1</td>\n",
       "      <td>1</td>\n",
       "      <td>0</td>\n",
       "      <td>0</td>\n",
       "    </tr>\n",
       "    <tr>\n",
       "      <th>2</th>\n",
       "      <td>1</td>\n",
       "      <td>0</td>\n",
       "      <td>1</td>\n",
       "      <td>1</td>\n",
       "      <td>1</td>\n",
       "    </tr>\n",
       "    <tr>\n",
       "      <th>3</th>\n",
       "      <td>0</td>\n",
       "      <td>0</td>\n",
       "      <td>0</td>\n",
       "      <td>1</td>\n",
       "      <td>0</td>\n",
       "    </tr>\n",
       "    <tr>\n",
       "      <th>4</th>\n",
       "      <td>1</td>\n",
       "      <td>1</td>\n",
       "      <td>1</td>\n",
       "      <td>0</td>\n",
       "      <td>0</td>\n",
       "    </tr>\n",
       "    <tr>\n",
       "      <th>5</th>\n",
       "      <td>0</td>\n",
       "      <td>0</td>\n",
       "      <td>1</td>\n",
       "      <td>1</td>\n",
       "      <td>1</td>\n",
       "    </tr>\n",
       "  </tbody>\n",
       "</table>\n",
       "</div>"
      ],
      "text/plain": [
       "   Bangun_Tidak Terlambat  Perkuliahan_Tidak  Hujan_Ya  Makan_Sudah  Mandi_Ya\n",
       "0                       0                  0         0            1         1\n",
       "1                       1                  1         1            0         0\n",
       "2                       1                  0         1            1         1\n",
       "3                       0                  0         0            1         0\n",
       "4                       1                  1         1            0         0\n",
       "5                       0                  0         1            1         1"
      ]
     },
     "execution_count": 40,
     "metadata": {},
     "output_type": "execute_result"
    }
   ],
   "source": [
    "import pandas as pd\n",
    "df = pd.DataFrame({\n",
    "    'Bangun': ['Terlambat', 'Tidak Terlambat', 'Tidak Terlambat', 'Terlambat', 'Tidak Terlambat', 'Terlambat'],\n",
    "    'Perkuliahan': ['Datang', 'Tidak', 'Datang', 'Datang', 'Tidak', 'Datang'],\n",
    "    'Hujan': ['Tidak', 'Ya', 'Ya', 'Tidak', 'Ya', 'Ya'],\n",
    "    'Makan': ['Sudah', 'Belum', 'Sudah', 'Sudah', 'Belum', 'Sudah'],\n",
    "    'Mandi': ['Ya', 'Tidak', 'Ya', 'Tidak', 'Tidak', 'Ya']\n",
    "})\n",
    "df = pd.get_dummies(df, drop_first=True, dtype=int)\n",
    "df"
   ]
  },
  {
   "cell_type": "code",
   "execution_count": 46,
   "metadata": {},
   "outputs": [
    {
     "name": "stdout",
     "output_type": "stream",
     "text": [
      "[0.]\n"
     ]
    }
   ],
   "source": [
    "data_test = pd.DataFrame({'Bangun_Tidak Terlambat': [0],\n",
    "                          'Hujan_Ya': [0],\n",
    "                          'Makan_Sudah': [1],\n",
    "                          'Mandi_Ya': [0]})\n",
    "\n",
    "hasil_predik = model_lr.predict(data_test)\n",
    "print(hasil_predik)"
   ]
  }
 ],
 "metadata": {
  "kernelspec": {
   "display_name": "base",
   "language": "python",
   "name": "python3"
  },
  "language_info": {
   "codemirror_mode": {
    "name": "ipython",
    "version": 3
   },
   "file_extension": ".py",
   "mimetype": "text/x-python",
   "name": "python",
   "nbconvert_exporter": "python",
   "pygments_lexer": "ipython3",
   "version": "3.11.5"
  }
 },
 "nbformat": 4,
 "nbformat_minor": 2
}
